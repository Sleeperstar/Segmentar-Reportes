{
 "cells": [
  {
   "cell_type": "code",
   "execution_count": 18,
   "id": "53e9d13d",
   "metadata": {},
   "outputs": [],
   "source": [
    "import pandas as pd"
   ]
  },
  {
   "cell_type": "code",
   "execution_count": 19,
   "id": "846be910",
   "metadata": {},
   "outputs": [],
   "source": [
    "file = r\"C:\\Users\\jhamp\\WIN LOCAL-AUTOMATIZACIO\\Segmentar Reportes\\Reportes AGENCIA PROVINCIAS NORTE Corte 1 MAYO 2025.xlsx\"\n",
    "DF = pd.read_excel(file,sheet_name='Reporte CORTE 1')\n",
    "\n"
   ]
  },
  {
   "cell_type": "code",
   "execution_count": 20,
   "id": "4f343cb3",
   "metadata": {},
   "outputs": [
    {
     "data": {
      "text/plain": [
       "['RUC',\n",
       " 'AGENCIA',\n",
       " 'META',\n",
       " 'GRUPO',\n",
       " 'ALTAS',\n",
       " 'ARPU sin IGV',\n",
       " 'CORTE 1',\n",
       " 'Cumplimiento Altas %',\n",
       " 'Marcha blanca',\n",
       " 'Multiplicador',\n",
       " 'BONO ARPU',\n",
       " 'Multiplicador Final',\n",
       " 'TOTAL A PAGAR',\n",
       " 'Unnamed: 13',\n",
       " 'Unnamed: 14',\n",
       " 'Unnamed: 15',\n",
       " 'Unnamed: 16']"
      ]
     },
     "execution_count": 20,
     "metadata": {},
     "output_type": "execute_result"
    }
   ],
   "source": [
    "DF.columns.to_list()"
   ]
  },
  {
   "cell_type": "code",
   "execution_count": 21,
   "id": "eeaa1c27",
   "metadata": {},
   "outputs": [
    {
     "data": {
      "text/plain": [
       "['AFG TELECOM S.A.C. La Libertad',\n",
       " 'AFG TELECOM S.A.C. Lambayeque',\n",
       " 'AFG TELECOM S.A.C. Piura',\n",
       " 'ALIV TELECOM S.A.C. Áncash',\n",
       " 'ALIV TELECOM S.A.C. La Libertad',\n",
       " 'ALIV TELECOM S.A.C. Lambayeque',\n",
       " 'ALIV TELECOM S.A.C. Piura',\n",
       " 'AZDAGROUP S.A.C. La Libertad',\n",
       " 'AZDAGROUP S.A.C. Piura',\n",
       " 'CENTRALCALL TELECOMUNICACIONES Áncash',\n",
       " 'CMBRANDO VENTAS S.A.C. La Libertad',\n",
       " 'CMBRANDO VENTAS S.A.C. Lambayeque',\n",
       " 'COMUNICACIONES CLV CENTER S.A. La Libertad',\n",
       " 'COMUNICACIONES CLV CENTER S.A. Lambayeque',\n",
       " 'COMUNICACIONES CLV CENTER S.A. Piura',\n",
       " 'CORPORACION DE TODO PERU S.A.C Áncash',\n",
       " 'CORPORACION DE TODO PERU S.A.C La Libertad',\n",
       " 'CORPORACION DE TODO PERU S.A.C Lambayeque',\n",
       " 'CORPORACION DE TODO PERU S.A.C Piura',\n",
       " 'CORPORACION VISUAL CONNECTIONS S.A.C. La Libertad',\n",
       " 'CORPORACION VISUAL CONNECTIONS S.A.C. Lambayeque',\n",
       " 'CR & DR TECNOLOGIA DE VANGUARD Lambayeque',\n",
       " 'DAS SOLUCIONES S.A.C. Áncash',\n",
       " 'DAS SOLUCIONES S.A.C. La Libertad',\n",
       " 'DAS SOLUCIONES S.A.C. Lambayeque',\n",
       " 'DAS SOLUCIONES S.A.C. Piura',\n",
       " 'DATANTENNA S.A.C. La Libertad',\n",
       " 'DATANTENNA S.A.C. Lambayeque',\n",
       " 'DATANTENNA S.A.C. Piura',\n",
       " 'EXPORTEL S.A.C Áncash',\n",
       " 'EXPORTEL S.A.C. La Libertad',\n",
       " 'EXPORTEL S.A.C. Lambayeque',\n",
       " 'EXPORTEL S.A.C. Piura',\n",
       " 'FUTURA CONNECTION Lambayeque',\n",
       " 'GRUPO LUFAFCO S.A.C. La Libertad',\n",
       " 'LEXY COMPANY E.I.R.L Lambayeque',\n",
       " 'NOVO NETWORKS SAC La Libertad',\n",
       " 'NOVO NETWORKS SAC Lambayeque',\n",
       " 'NOVO NETWORKS SAC Piura',\n",
       " 'S L SELECTRA Áncash',\n",
       " 'S L SELECTRA La Libertad',\n",
       " 'S L SELECTRA Lambayeque',\n",
       " 'S L SELECTRA Piura',\n",
       " 'SAVY OUTSOURCING S.A.C. La Libertad',\n",
       " 'SERVICIOS GENERALES F Y G DIST Áncash',\n",
       " 'SERVICIOS GENERALES F Y G DIST La Libertad',\n",
       " 'SERVICIOS GENERALES F Y G DIST Lambayeque',\n",
       " 'SERVICIOS GENERALES F Y G DIST Piura',\n",
       " 'SICOMNET SAC La Libertad',\n",
       " 'SICOMNET SAC Lambayeque',\n",
       " 'SICOMNET SAC Piura',\n",
       " 'TELCO CONTACT S.A.C Áncash',\n",
       " 'TELCO CONTACT S.A.C La Libertad',\n",
       " 'TELCO CONTACT S.A.C Lambayeque',\n",
       " 'TELCO CONTACT S.A.C Piura',\n",
       " 'YBENS GROUP Lambayeque',\n",
       " 'YBENS GROUP Piura',\n",
       " nan,\n",
       " nan,\n",
       " nan,\n",
       " nan,\n",
       " nan]"
      ]
     },
     "execution_count": 21,
     "metadata": {},
     "output_type": "execute_result"
    }
   ],
   "source": [
    "DF.loc[:, 'AGENCIA'].to_list()"
   ]
  }
 ],
 "metadata": {
  "kernelspec": {
   "display_name": "Python 3",
   "language": "python",
   "name": "python3"
  },
  "language_info": {
   "codemirror_mode": {
    "name": "ipython",
    "version": 3
   },
   "file_extension": ".py",
   "mimetype": "text/x-python",
   "name": "python",
   "nbconvert_exporter": "python",
   "pygments_lexer": "ipython3",
   "version": "3.12.10"
  }
 },
 "nbformat": 4,
 "nbformat_minor": 5
}
